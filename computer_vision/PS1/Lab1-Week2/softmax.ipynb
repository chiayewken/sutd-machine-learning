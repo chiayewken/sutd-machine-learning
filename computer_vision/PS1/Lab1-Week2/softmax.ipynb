{
 "cells": [
  {
   "cell_type": "markdown",
   "metadata": {},
   "source": [
    "# Softmax exercise\n",
    "\n",
    "*Complete and hand in this completed worksheet (including its outputs and any supporting code outside of the worksheet) with your assignment submission.*\n",
    "\n",
    "In this exercise, you will:\n",
    "\n",
    "- implement a fully-vectorized **loss function** for the Softmax classifier\n",
    "- implement the fully-vectorized expression for its **analytic gradient**\n",
    "- **check your implementation** with numerical gradient\n",
    "- use a validation set to **tune the learning rate and regularization** strength\n",
    "- **optimize** the loss function with **SGD**\n",
    "- **visualize** the final learned weights\n"
   ]
  },
  {
   "cell_type": "markdown",
   "metadata": {},
   "source": [
    "**Acknowledgement: This exercise is adapted from [Stanford CS231n](http://cs231n.stanford.edu/).**"
   ]
  },
  {
   "cell_type": "code",
   "execution_count": 104,
   "metadata": {
    "pycharm": {
     "is_executing": false
    }
   },
   "outputs": [
    {
     "name": "stdout",
     "text": [
      "The autoreload extension is already loaded. To reload it, use:\n",
      "  %reload_ext autoreload\n"
     ],
     "output_type": "stream"
    }
   ],
   "source": [
    "import random\n",
    "import numpy as np\n",
    "from data_utils import load_CIFAR10\n",
    "import matplotlib.pyplot as plt\n",
    "\n",
    "%matplotlib inline\n",
    "plt.rcParams['figure.figsize'] = (10.0, 8.0) # set default size of plots\n",
    "plt.rcParams['image.interpolation'] = 'nearest'\n",
    "plt.rcParams['image.cmap'] = 'gray'\n",
    "\n",
    "# for auto-reloading extenrnal modules\n",
    "# see http://stackoverflow.com/questions/1907993/autoreload-of-modules-in-ipython\n",
    "%load_ext autoreload\n",
    "%autoreload 2"
   ]
  },
  {
   "cell_type": "code",
   "execution_count": 105,
   "metadata": {
    "pycharm": {
     "is_executing": false
    }
   },
   "outputs": [],
   "source": [
    "def rel_error(out, correct_out):\n",
    "    return np.sum(abs(out - correct_out) / (abs(out) + abs(correct_out)))"
   ]
  },
  {
   "cell_type": "code",
   "execution_count": 106,
   "metadata": {
    "pycharm": {
     "is_executing": false
    }
   },
   "outputs": [
    {
     "name": "stdout",
     "text": [
      "Train data shape:  (49000, 3073)\n",
      "Train labels shape:  (49000,)\n",
      "Validation data shape:  (1000, 3073)\n",
      "Validation labels shape:  (1000,)\n",
      "Test data shape:  (1000, 3073)\n",
      "Test labels shape:  (1000,)\n",
      "dev data shape:  (500, 3073)\n",
      "dev labels shape:  (500,)\n"
     ],
     "output_type": "stream"
    }
   ],
   "source": [
    "def get_CIFAR10_data(num_training=49000, num_validation=1000, num_test=1000, num_dev=500):\n",
    "    \"\"\"\n",
    "    Load the CIFAR-10 dataset from disk and perform preprocessing to prepare\n",
    "    it for the linear classifier. These are the same steps as we used for the\n",
    "    Softmax, but condensed to a single function.  \n",
    "    \"\"\"\n",
    "    # Load the raw CIFAR-10 data\n",
    "    cifar10_dir = 'datasets/cifar-10-batches-py'\n",
    "    X_train, y_train, X_test, y_test = load_CIFAR10(cifar10_dir)\n",
    "\n",
    "    # subsample the data\n",
    "    mask = range(num_training, num_training + num_validation)\n",
    "    X_val = X_train[mask]\n",
    "    y_val = y_train[mask]\n",
    "    mask = range(num_training)\n",
    "    X_train = X_train[mask]\n",
    "    y_train = y_train[mask]\n",
    "    mask = range(num_test)\n",
    "    X_test = X_test[mask]\n",
    "    y_test = y_test[mask]\n",
    "    \n",
    "    # # We will also make a development set, which is a small subset of\n",
    "    # the training set.\n",
    "    mask = np.random.choice(num_training, num_dev, replace=False)\n",
    "    X_dev = X_train[mask]\n",
    "    y_dev = y_train[mask]\n",
    "\n",
    "    # Preprocessing: reshape the image data into rows\n",
    "    X_train = np.reshape(X_train, (X_train.shape[0], -1))\n",
    "    X_val = np.reshape(X_val, (X_val.shape[0], -1))\n",
    "    X_test = np.reshape(X_test, (X_test.shape[0], -1))\n",
    "    X_dev = np.reshape(X_dev, (X_dev.shape[0], -1))\n",
    "\n",
    "    # Normalize the data: subtract the mean image\n",
    "    mean_image = np.mean(X_train, axis = 0)\n",
    "    X_train -= mean_image\n",
    "    X_val -= mean_image\n",
    "    X_test -= mean_image\n",
    "    X_dev -= mean_image\n",
    "\n",
    "    # add bias dimension and transform into columns\n",
    "    X_train = np.hstack([X_train, np.ones((X_train.shape[0], 1))])\n",
    "    X_val = np.hstack([X_val, np.ones((X_val.shape[0], 1))])\n",
    "    X_test = np.hstack([X_test, np.ones((X_test.shape[0], 1))])\n",
    "    X_dev = np.hstack([X_dev, np.ones((X_dev.shape[0], 1))])\n",
    "\n",
    "    return X_train, y_train, X_val, y_val, X_test, y_test, X_dev, y_dev\n",
    "\n",
    "\n",
    "# Invoke the above function to get our data.\n",
    "X_train, y_train, X_val, y_val, X_test, y_test, X_dev, y_dev = get_CIFAR10_data()\n",
    "print('Train data shape: ', X_train.shape)\n",
    "print('Train labels shape: ', y_train.shape)\n",
    "print('Validation data shape: ', X_val.shape)\n",
    "print('Validation labels shape: ', y_val.shape)\n",
    "print('Test data shape: ', X_test.shape)\n",
    "print('Test labels shape: ', y_test.shape)\n",
    "print('dev data shape: ', X_dev.shape)\n",
    "print('dev labels shape: ', y_dev.shape)"
   ]
  },
  {
   "cell_type": "code",
   "execution_count": 107,
   "metadata": {
    "pycharm": {
     "is_executing": false
    }
   },
   "outputs": [],
   "source": [
    "# Create one-hot vectors for label\n",
    "num_class = 10\n",
    "y_train_oh = np.zeros((y_train.shape[0], 10))\n",
    "y_train_oh[np.arange(y_train.shape[0]), y_train] = 1\n",
    "y_val_oh = np.zeros((y_val.shape[0], 10))\n",
    "y_val_oh[np.arange(y_val.shape[0]), y_val] = 1\n",
    "y_test_oh = np.zeros((y_test.shape[0], 10))\n",
    "y_test_oh[np.arange(y_test.shape[0]), y_test] = 1\n",
    "\n",
    "y_dev_oh = np.zeros((y_dev.shape[0], 10))\n",
    "y_dev_oh[np.arange(y_dev.shape[0]), y_dev] = 1"
   ]
  },
  {
   "cell_type": "markdown",
   "metadata": {},
   "source": [
    "# Regression as classifier\n",
    "The most simple and straightforward approach to learn a classifier is to map the input data (raw image values) to class label (one-hot vector). The loss function is defined as following: \n",
    "$$\\mathcal{L}=\\frac{1}{n}\\|\\mathbf{X}\\mathbf{W}-\\mathbf{y}\\|_F^2\\qquad\\qquad(1)$$\n",
    "Where:\n",
    "* $\\mathbf{W}\\in \\mathbb{R}^{(d+1)\\times C}$: Classifier weight\n",
    "* $\\mathbf{X}\\in \\mathbb{R}^{n\\times (d+1)}$: Dataset\n",
    "* $\\mathbf{y}\\in \\mathbb{R}^{n\\times C}$: Class label (one-hot vector)"
   ]
  },
  {
   "cell_type": "markdown",
   "metadata": {},
   "source": [
    "# Optimization\n",
    "Given the loss function (1), the next problem is how to solve the weight $\\mathbf{W}$. We now discuss 2 approaches: \n",
    " * Random search\n",
    " * Closed-form solution\n",
    "\n",
    "## Random search"
   ]
  },
  {
   "cell_type": "code",
   "execution_count": 108,
   "metadata": {
    "pycharm": {
     "is_executing": false
    }
   },
   "outputs": [
    {
     "name": "stdout",
     "text": [
      "in attempt 0 the loss was 33.467785, best 33.467785\n",
      "in attempt 1 the loss was 35.360762, best 33.467785\n",
      "in attempt 2 the loss was 32.039382, best 32.039382\n",
      "in attempt 3 the loss was 32.912553, best 32.039382\n",
      "in attempt 4 the loss was 34.941303, best 32.039382\n",
      "in attempt 5 the loss was 32.500639, best 32.039382\n",
      "in attempt 6 the loss was 37.094312, best 32.039382\n",
      "in attempt 7 the loss was 34.989909, best 32.039382\n",
      "in attempt 8 the loss was 34.659741, best 32.039382\n",
      "in attempt 9 the loss was 35.465128, best 32.039382\n",
      "in attempt 10 the loss was 32.025993, best 32.025993\n",
      "in attempt 11 the loss was 32.119923, best 32.025993\n",
      "in attempt 12 the loss was 31.900101, best 31.900101\n",
      "in attempt 13 the loss was 32.332900, best 31.900101\n",
      "in attempt 14 the loss was 34.176157, best 31.900101\n",
      "in attempt 15 the loss was 33.795359, best 31.900101\n",
      "in attempt 16 the loss was 34.811689, best 31.900101\n",
      "in attempt 17 the loss was 34.271970, best 31.900101\n",
      "in attempt 18 the loss was 34.493311, best 31.900101\n",
      "in attempt 19 the loss was 34.922767, best 31.900101\n",
      "in attempt 20 the loss was 34.583772, best 31.900101\n",
      "in attempt 21 the loss was 35.442624, best 31.900101\n",
      "in attempt 22 the loss was 34.758037, best 31.900101\n",
      "in attempt 23 the loss was 32.729876, best 31.900101\n",
      "in attempt 24 the loss was 33.433392, best 31.900101\n",
      "in attempt 25 the loss was 34.646351, best 31.900101\n",
      "in attempt 26 the loss was 37.385646, best 31.900101\n",
      "in attempt 27 the loss was 34.648805, best 31.900101\n",
      "in attempt 28 the loss was 31.707825, best 31.707825\n",
      "in attempt 29 the loss was 33.092646, best 31.707825\n",
      "in attempt 30 the loss was 33.305894, best 31.707825\n",
      "in attempt 31 the loss was 35.741651, best 31.707825\n",
      "in attempt 32 the loss was 31.370531, best 31.370531\n",
      "in attempt 33 the loss was 32.845888, best 31.370531\n",
      "in attempt 34 the loss was 34.661643, best 31.370531\n",
      "in attempt 35 the loss was 34.307233, best 31.370531\n",
      "in attempt 36 the loss was 33.271634, best 31.370531\n",
      "in attempt 37 the loss was 37.225476, best 31.370531\n",
      "in attempt 38 the loss was 33.612861, best 31.370531\n",
      "in attempt 39 the loss was 36.955745, best 31.370531\n",
      "in attempt 40 the loss was 29.746883, best 29.746883\n",
      "in attempt 41 the loss was 33.852122, best 29.746883\n",
      "in attempt 42 the loss was 34.866821, best 29.746883\n",
      "in attempt 43 the loss was 33.257783, best 29.746883\n",
      "in attempt 44 the loss was 33.234528, best 29.746883\n",
      "in attempt 45 the loss was 31.906987, best 29.746883\n",
      "in attempt 46 the loss was 33.997092, best 29.746883\n",
      "in attempt 47 the loss was 33.122508, best 29.746883\n",
      "in attempt 48 the loss was 33.738201, best 29.746883\n",
      "in attempt 49 the loss was 34.423455, best 29.746883\n",
      "in attempt 50 the loss was 35.978374, best 29.746883\n",
      "in attempt 51 the loss was 34.975554, best 29.746883\n",
      "in attempt 52 the loss was 33.001061, best 29.746883\n",
      "in attempt 53 the loss was 33.520258, best 29.746883\n",
      "in attempt 54 the loss was 32.561426, best 29.746883\n",
      "in attempt 55 the loss was 34.184514, best 29.746883\n",
      "in attempt 56 the loss was 33.952279, best 29.746883\n",
      "in attempt 57 the loss was 34.784540, best 29.746883\n",
      "in attempt 58 the loss was 33.828491, best 29.746883\n",
      "in attempt 59 the loss was 36.921559, best 29.746883\n",
      "in attempt 60 the loss was 33.541440, best 29.746883\n",
      "in attempt 61 the loss was 34.272055, best 29.746883\n",
      "in attempt 62 the loss was 33.912331, best 29.746883\n",
      "in attempt 63 the loss was 35.376107, best 29.746883\n",
      "in attempt 64 the loss was 34.712442, best 29.746883\n",
      "in attempt 65 the loss was 33.417752, best 29.746883\n",
      "in attempt 66 the loss was 34.541519, best 29.746883\n",
      "in attempt 67 the loss was 32.387117, best 29.746883\n",
      "in attempt 68 the loss was 33.641991, best 29.746883\n",
      "in attempt 69 the loss was 34.068982, best 29.746883\n",
      "in attempt 70 the loss was 33.825377, best 29.746883\n",
      "in attempt 71 the loss was 33.371068, best 29.746883\n",
      "in attempt 72 the loss was 32.673249, best 29.746883\n",
      "in attempt 73 the loss was 33.728520, best 29.746883\n",
      "in attempt 74 the loss was 33.742501, best 29.746883\n",
      "in attempt 75 the loss was 34.046625, best 29.746883\n",
      "in attempt 76 the loss was 35.882321, best 29.746883\n",
      "in attempt 77 the loss was 34.370707, best 29.746883\n",
      "in attempt 78 the loss was 34.216868, best 29.746883\n",
      "in attempt 79 the loss was 32.716029, best 29.746883\n",
      "in attempt 80 the loss was 32.295771, best 29.746883\n",
      "in attempt 81 the loss was 31.565354, best 29.746883\n",
      "in attempt 82 the loss was 35.437444, best 29.746883\n",
      "in attempt 83 the loss was 33.370512, best 29.746883\n",
      "in attempt 84 the loss was 32.154675, best 29.746883\n",
      "in attempt 85 the loss was 33.176655, best 29.746883\n",
      "in attempt 86 the loss was 34.076270, best 29.746883\n",
      "in attempt 87 the loss was 33.067162, best 29.746883\n",
      "in attempt 88 the loss was 32.171655, best 29.746883\n",
      "in attempt 89 the loss was 34.726482, best 29.746883\n",
      "in attempt 90 the loss was 32.821744, best 29.746883\n",
      "in attempt 91 the loss was 34.075924, best 29.746883\n",
      "in attempt 92 the loss was 36.414692, best 29.746883\n",
      "in attempt 93 the loss was 33.619581, best 29.746883\n",
      "in attempt 94 the loss was 32.712693, best 29.746883\n",
      "in attempt 95 the loss was 32.840955, best 29.746883\n",
      "in attempt 96 the loss was 32.904801, best 29.746883\n",
      "in attempt 97 the loss was 35.259414, best 29.746883\n",
      "in attempt 98 the loss was 32.426999, best 29.746883\n",
      "in attempt 99 the loss was 32.000762, best 29.746883\n"
     ],
     "output_type": "stream"
    }
   ],
   "source": [
    "bestloss = float('inf')\n",
    "for num in range(100):\n",
    "    W = np.random.randn(3073, 10) * 0.0001\n",
    "    loss = np.linalg.norm(X_dev.dot(W) - y_dev_oh)\n",
    "    if (loss < bestloss):\n",
    "        bestloss = loss\n",
    "        bestW = W\n",
    "    print('in attempt %d the loss was %f, best %f' % (num, loss, bestloss))"
   ]
  },
  {
   "cell_type": "code",
   "execution_count": 109,
   "metadata": {
    "pycharm": {
     "is_executing": false
    }
   },
   "outputs": [
    {
     "name": "stdout",
     "text": [
      "Accuracy on train set:  11.799999999999999\n",
      "Accuracy on test set:  11.600000000000001\n"
     ],
     "output_type": "stream"
    }
   ],
   "source": [
    "# How bestW perform:\n",
    "print('Accuracy on train set: ', np.sum(np.argmin(np.abs(1 - X_dev.dot(W)), axis=1) == y_dev).astype(np.float32)/y_dev.shape[0]*100)\n",
    "print('Accuracy on test set: ', np.sum(np.argmin(np.abs(1 - X_test.dot(W)), axis=1) == y_test).astype(np.float32)/y_test.shape[0]*100)"
   ]
  },
  {
   "cell_type": "markdown",
   "metadata": {},
   "source": [
    "You can clearly see that the performance is very low, almost at the random level."
   ]
  },
  {
   "cell_type": "markdown",
   "metadata": {},
   "source": [
    "## Closed-form solution\n",
    "The closed-form solution is achieved by:\n",
    "$$\\frac{\\partial\\mathcal{L}}{\\partial \\mathbf{W}}=\\frac{2}{n}\\mathbf{X}^T(\\mathbf{X}\\mathbf{W}-\\mathbf{y})=0$$\n",
    "\n",
    "$$\\Leftrightarrow\\mathbf{W}^\\ast=(\\mathbf{X}^T\\mathbf{X})^{-1}\\mathbf{X}^T\\mathbf{y}$$"
   ]
  },
  {
   "cell_type": "code",
   "execution_count": 110,
   "metadata": {
    "pycharm": {
     "is_executing": false
    }
   },
   "outputs": [
    {
     "name": "stdout",
     "text": [
      "W: (3073, 10)\n"
     ],
     "output_type": "stream"
    }
   ],
   "source": [
    "################################################################################\n",
    "# TOD:                                                                        #\n",
    "# Implement the closed-form solution of the weight W.                          #\n",
    "################################################################################\n",
    "pass\n",
    "temp = np.matmul(np.transpose(X_train), X_train)\n",
    "temp = np.linalg.inv(temp)\n",
    "temp = np.matmul(temp, np.transpose(X_train))\n",
    "temp = np.matmul(temp, y_train_oh)\n",
    "W = temp\n",
    "print(\"W:\", W.shape)\n",
    "################################################################################\n",
    "#                              END OF YOUR CODE                                #\n",
    "################################################################################"
   ]
  },
  {
   "cell_type": "code",
   "execution_count": 111,
   "metadata": {
    "pycharm": {
     "is_executing": false
    }
   },
   "outputs": [
    {
     "name": "stdout",
     "text": [
      "Train set accuracy:  51.163265306122454\n",
      "Test set accuracy:  36.199999999999996\n"
     ],
     "output_type": "stream"
    }
   ],
   "source": [
    "# Check accuracy:\n",
    "print('Train set accuracy: ', np.sum(np.argmin(np.abs(1 - X_train.dot(W)), axis=1) == y_train).astype(np.float32)/y_train.shape[0]*100)\n",
    "print('Test set accuracy: ', np.sum(np.argmin(np.abs(1 - X_test.dot(W)), axis=1) == y_test).astype(np.float32)/y_test.shape[0]*100)"
   ]
  },
  {
   "cell_type": "markdown",
   "metadata": {},
   "source": [
    "Now, you can see that the performance is much better."
   ]
  },
  {
   "cell_type": "markdown",
   "metadata": {},
   "source": [
    "## Regularization\n",
    "A simple way to improve performance is to include the L2-regularization penalty.\n",
    "$$\\mathcal{L}=\\frac{1}{n}\\|\\mathbf{X}\\mathbf{W}-\\mathbf{y}\\|_F^2 +\\lambda \\|\\mathbf{W}\\|_F^2 \\qquad\\qquad(2)$$\n",
    "The closed-form solution now is: \n",
    "$$\\Leftrightarrow\\mathbf{W}^\\ast=(\\mathbf{X}^T\\mathbf{X}+\\lambda n\\mathbf{I})^{-1}\\mathbf{X}^T\\mathbf{y}$$"
   ]
  },
  {
   "cell_type": "code",
   "execution_count": 112,
   "metadata": {
    "pycharm": {
     "is_executing": false
    }
   },
   "outputs": [
    {
     "name": "stderr",
     "text": [
      "100%|██████████| 8/8 [01:44<00:00, 13.04s/it]\n"
     ],
     "output_type": "stream"
    }
   ],
   "source": [
    "# try several values of lambda to see how it helps:\n",
    "from tqdm import tqdm\n",
    "\n",
    "lambdas = [0.01, 0.1, 1, 10, 100, 1000, 10000, 100000]\n",
    "train_acc = np.zeros((len(lambdas)))\n",
    "test_acc = np.zeros((len(lambdas)))\n",
    "for i in tqdm(range(len(lambdas))):\n",
    "    l = lambdas[i]\n",
    "    n,d = X_train.shape[0], X_train.shape[1]\n",
    "    ################################################################################\n",
    "    # TOD:                                                                        #\n",
    "    # Implement the closed-form solution of the weight W with regularization.      #\n",
    "    ################################################################################\n",
    "    pass\n",
    "    temp = np.matmul(np.transpose(X_train), X_train)\n",
    "    temp = np.add(temp, l * n * np.eye(d))\n",
    "    temp = np.linalg.inv(temp)\n",
    "    temp = np.matmul(temp, np.transpose(X_train))\n",
    "    temp = np.matmul(temp, y_train_oh)\n",
    "    W = temp\n",
    "    ################################################################################\n",
    "    #                              END OF YOUR CODE                                #\n",
    "    ################################################################################\n",
    "    train_acc[i] = np.sum(np.argmin(np.abs(1 - X_train.dot(W)), axis=1) == y_train).astype(np.float32)/y_train.shape[0]*100\n",
    "    test_acc[i]  = np.sum(np.argmin(np.abs(1 - X_test.dot(W)), axis=1) == y_test).astype(np.float32)/y_test.shape[0]*100"
   ]
  },
  {
   "cell_type": "code",
   "execution_count": 113,
   "metadata": {
    "pycharm": {
     "is_executing": false
    }
   },
   "outputs": [
    {
     "data": {
      "text/plain": "<Figure size 720x576 with 1 Axes>",
      "image/png": "[encoded data removed]"
     },
     "metadata": {
      "needs_background": "light"
     },
     "output_type": "display_data"
    }
   ],
   "source": [
    "plt.semilogx(lambdas, train_acc, 'r', label=\"Training accuracy\")\n",
    "plt.semilogx(lambdas, test_acc, 'g', label=\"Testing accuracy\")\n",
    "\n",
    "plt.legend()\n",
    "plt.grid(True)\n",
    "plt.show()"
   ]
  },
  {
   "cell_type": "markdown",
   "metadata": {},
   "source": [
    "**Question:** Try to explain why the performances on the training and test set have such behaviors as we change the value of $\\lambda$."
   ]
  },
  {
   "cell_type": "markdown",
   "metadata": {},
   "source": [
    "**Your answer:** Regularization will reduce the model's ability to fit to random noise in the data. However, as regularization \n",
    "is increased, the training performance will continually worsen. For test set, as regularization\n",
    "increases, performance will increase up to a point because overfitting is reduced. However,\n",
    "After that point the model's ability to fit to the data is severely impaired so \n",
    "test performance will continually worsen from there."
   ]
  },
  {
   "cell_type": "markdown",
   "metadata": {},
   "source": [
    "## Softmax Classifier\n",
    "\n",
    "The predicted probability for the $j$-th class given a sample vector $x$ and a weight $W$ is:\n",
    "\n",
    "$$\\displaystyle{P(y=j\\mid x)=\\frac{e^{-xw_j}}{\\sum\\limits_{c=1}^{C}e^{-xw_c}}}$$ \n",
    "\n",
    "![softmax](imgs/softmax.png \"Example of Softmax\")\n",
    "\n",
    "Your code for this section will all be written inside **classifiers/softmax.py**. \n"
   ]
  },
  {
   "cell_type": "code",
   "execution_count": 114,
   "metadata": {
    "scrolled": true,
    "pycharm": {
     "is_executing": false
    }
   },
   "outputs": [
    {
     "name": "stdout",
     "text": [
      "loss: 2.464627\n",
      "sanity check: 2.302585\n"
     ],
     "output_type": "stream"
    }
   ],
   "source": [
    "# First implement the naive softmax loss function with nested loops.\n",
    "# Open the file classifiers/softmax.py and implement the\n",
    "# softmax_loss_naive function.\n",
    "\n",
    "from classifiers.softmax import softmax_loss_naive\n",
    "import time\n",
    "\n",
    "# Generate a random softmax weight matrix and use it to compute the loss.\n",
    "W = np.random.randn(3073, 10) * 0.0001\n",
    "loss, grad = softmax_loss_naive(W, X_dev, y_dev, 0.0)\n",
    "\n",
    "# As a rough sanity check, our loss should be something close to -log(0.1).\n",
    "print('loss: %f' % loss)\n",
    "print('sanity check: %f' % (-np.log(0.1)))"
   ]
  },
  {
   "cell_type": "markdown",
   "metadata": {},
   "source": [
    "**Question:** Why do we expect our loss to be close to -log(0.1)? Explain briefly.**"
   ]
  },
  {
   "cell_type": "markdown",
   "metadata": {},
   "source": [
    "**Your answer:** As the model is untrained, we expect the probability for ten\n",
    "classes to be equal at about 0.1. Softmax is negative log likelihood of correct class,\n",
    "hence loss should be about -log(0.1)"
   ]
  },
  {
   "cell_type": "markdown",
   "metadata": {},
   "source": [
    "# Optimization\n",
    "\n",
    "\n",
    "## Random search"
   ]
  },
  {
   "cell_type": "code",
   "execution_count": 115,
   "metadata": {
    "pycharm": {
     "is_executing": false
    }
   },
   "outputs": [
    {
     "name": "stdout",
     "text": [
      "in attempt 0 the loss was 2.327814, best 2.327814\n",
      "in attempt 1 the loss was 2.381376, best 2.327814\n",
      "in attempt 2 the loss was 2.360548, best 2.327814\n",
      "in attempt 3 the loss was 2.326443, best 2.326443\n",
      "in attempt 4 the loss was 2.322796, best 2.322796\n",
      "in attempt 5 the loss was 2.359248, best 2.322796\n",
      "in attempt 6 the loss was 2.361426, best 2.322796\n",
      "in attempt 7 the loss was 2.365175, best 2.322796\n",
      "in attempt 8 the loss was 2.371638, best 2.322796\n",
      "in attempt 9 the loss was 2.301518, best 2.301518\n",
      "in attempt 10 the loss was 2.358543, best 2.301518\n",
      "in attempt 11 the loss was 2.346480, best 2.301518\n",
      "in attempt 12 the loss was 2.403919, best 2.301518\n",
      "in attempt 13 the loss was 2.325354, best 2.301518\n",
      "in attempt 14 the loss was 2.365127, best 2.301518\n",
      "in attempt 15 the loss was 2.366475, best 2.301518\n",
      "in attempt 16 the loss was 2.360571, best 2.301518\n",
      "in attempt 17 the loss was 2.374639, best 2.301518\n",
      "in attempt 18 the loss was 2.387313, best 2.301518\n",
      "in attempt 19 the loss was 2.352317, best 2.301518\n",
      "in attempt 20 the loss was 2.345805, best 2.301518\n",
      "in attempt 21 the loss was 2.364791, best 2.301518\n",
      "in attempt 22 the loss was 2.386357, best 2.301518\n",
      "in attempt 23 the loss was 2.391423, best 2.301518\n",
      "in attempt 24 the loss was 2.344536, best 2.301518\n",
      "in attempt 25 the loss was 2.381519, best 2.301518\n",
      "in attempt 26 the loss was 2.410840, best 2.301518\n",
      "in attempt 27 the loss was 2.351578, best 2.301518\n",
      "in attempt 28 the loss was 2.305412, best 2.301518\n",
      "in attempt 29 the loss was 2.376204, best 2.301518\n",
      "in attempt 30 the loss was 2.300275, best 2.300275\n",
      "in attempt 31 the loss was 2.382385, best 2.300275\n",
      "in attempt 32 the loss was 2.344712, best 2.300275\n",
      "in attempt 33 the loss was 2.385033, best 2.300275\n",
      "in attempt 34 the loss was 2.363594, best 2.300275\n",
      "in attempt 35 the loss was 2.381819, best 2.300275\n",
      "in attempt 36 the loss was 2.367713, best 2.300275\n",
      "in attempt 37 the loss was 2.360816, best 2.300275\n",
      "in attempt 38 the loss was 2.412456, best 2.300275\n",
      "in attempt 39 the loss was 2.335383, best 2.300275\n",
      "in attempt 40 the loss was 2.326438, best 2.300275\n",
      "in attempt 41 the loss was 2.314444, best 2.300275\n",
      "in attempt 42 the loss was 2.424355, best 2.300275\n",
      "in attempt 43 the loss was 2.307134, best 2.300275\n",
      "in attempt 44 the loss was 2.369879, best 2.300275\n",
      "in attempt 45 the loss was 2.341285, best 2.300275\n",
      "in attempt 46 the loss was 2.262405, best 2.262405\n",
      "in attempt 47 the loss was 2.352869, best 2.262405\n",
      "in attempt 48 the loss was 2.344286, best 2.262405\n",
      "in attempt 49 the loss was 2.408785, best 2.262405\n",
      "in attempt 50 the loss was 2.291494, best 2.262405\n",
      "in attempt 51 the loss was 2.372259, best 2.262405\n",
      "in attempt 52 the loss was 2.344816, best 2.262405\n",
      "in attempt 53 the loss was 2.355226, best 2.262405\n",
      "in attempt 54 the loss was 2.387293, best 2.262405\n",
      "in attempt 55 the loss was 2.359002, best 2.262405\n",
      "in attempt 56 the loss was 2.329666, best 2.262405\n",
      "in attempt 57 the loss was 2.329088, best 2.262405\n",
      "in attempt 58 the loss was 2.327818, best 2.262405\n",
      "in attempt 59 the loss was 2.358581, best 2.262405\n",
      "in attempt 60 the loss was 2.334339, best 2.262405\n",
      "in attempt 61 the loss was 2.327013, best 2.262405\n",
      "in attempt 62 the loss was 2.380200, best 2.262405\n",
      "in attempt 63 the loss was 2.297824, best 2.262405\n",
      "in attempt 64 the loss was 2.391915, best 2.262405\n",
      "in attempt 65 the loss was 2.348905, best 2.262405\n",
      "in attempt 66 the loss was 2.305024, best 2.262405\n",
      "in attempt 67 the loss was 2.365650, best 2.262405\n",
      "in attempt 68 the loss was 2.372773, best 2.262405\n",
      "in attempt 69 the loss was 2.371797, best 2.262405\n",
      "in attempt 70 the loss was 2.327835, best 2.262405\n",
      "in attempt 71 the loss was 2.391806, best 2.262405\n",
      "in attempt 72 the loss was 2.348807, best 2.262405\n",
      "in attempt 73 the loss was 2.382091, best 2.262405\n",
      "in attempt 74 the loss was 2.336407, best 2.262405\n",
      "in attempt 75 the loss was 2.364395, best 2.262405\n",
      "in attempt 76 the loss was 2.344964, best 2.262405\n",
      "in attempt 77 the loss was 2.347200, best 2.262405\n",
      "in attempt 78 the loss was 2.431063, best 2.262405\n",
      "in attempt 79 the loss was 2.378504, best 2.262405\n",
      "in attempt 80 the loss was 2.374232, best 2.262405\n",
      "in attempt 81 the loss was 2.382098, best 2.262405\n",
      "in attempt 82 the loss was 2.404832, best 2.262405\n",
      "in attempt 83 the loss was 2.364899, best 2.262405\n",
      "in attempt 84 the loss was 2.337902, best 2.262405\n",
      "in attempt 85 the loss was 2.327761, best 2.262405\n",
      "in attempt 86 the loss was 2.350018, best 2.262405\n",
      "in attempt 87 the loss was 2.370868, best 2.262405\n",
      "in attempt 88 the loss was 2.404916, best 2.262405\n",
      "in attempt 89 the loss was 2.335395, best 2.262405\n",
      "in attempt 90 the loss was 2.371736, best 2.262405\n",
      "in attempt 91 the loss was 2.316829, best 2.262405\n",
      "in attempt 92 the loss was 2.373545, best 2.262405\n",
      "in attempt 93 the loss was 2.346622, best 2.262405\n",
      "in attempt 94 the loss was 2.342313, best 2.262405\n",
      "in attempt 95 the loss was 2.315958, best 2.262405\n",
      "in attempt 96 the loss was 2.331160, best 2.262405\n",
      "in attempt 97 the loss was 2.300834, best 2.262405\n",
      "in attempt 98 the loss was 2.395571, best 2.262405\n",
      "in attempt 99 the loss was 2.286525, best 2.262405\n"
     ],
     "output_type": "stream"
    }
   ],
   "source": [
    "bestloss = float('inf')\n",
    "for num in range(100):\n",
    "    W = np.random.randn(3073, 10) * 0.0001\n",
    "    loss, _ = softmax_loss_naive(W, X_dev, y_dev, 0.0)\n",
    "    if (loss < bestloss):\n",
    "        bestloss = loss\n",
    "        bestW = W\n",
    "    print('in attempt %d the loss was %f, best %f' % (num, loss, bestloss))"
   ]
  },
  {
   "cell_type": "code",
   "execution_count": 116,
   "metadata": {
    "pycharm": {
     "is_executing": false
    }
   },
   "outputs": [
    {
     "name": "stdout",
     "text": [
      "Accuracy on train set 0.142980\n",
      "Accuracy on test set 0.149000\n"
     ],
     "output_type": "stream"
    }
   ],
   "source": [
    "# How bestW perform on trainset\n",
    "scores = X_train.dot(bestW)\n",
    "y_pred = np.argmax(scores, axis=1)\n",
    "print('Accuracy on train set %f' % np.mean(y_pred == y_train))\n",
    "\n",
    "# evaluate performance of test set\n",
    "scores = X_test.dot(bestW)\n",
    "y_pred = np.argmax(scores, axis=1)\n",
    "print('Accuracy on test set %f' % np.mean(y_pred == y_test))"
   ]
  },
  {
   "cell_type": "markdown",
   "metadata": {},
   "source": [
    "Compare the performance when using random search with *regression classifier* and *softmax classifier*. You can see how much useful the softmax classifier is."
   ]
  },
  {
   "cell_type": "markdown",
   "metadata": {},
   "source": [
    "## Stochastic Gradient descent\n",
    "Even though it is possible to achieve closed-form solution with softmax classifier, it would be more complicated. In fact, we could achieve very good results with gradient descent approach. Additionally, in case of very large dataset, it is impossible to load the whole dataset into the memory. Gradient descent can help to optimize the loss function in batch. \n",
    "\n",
    "$$\\mathbf{W}^{t+1}=\\mathbf{W}^{t}−\\alpha \\frac{\\partial\\mathcal{L(\\mathbf{x};\\mathbf{W}^{t})}}{\\partial\\mathbf{W}^{t}}$$\n",
    "\n",
    "Where $\\alpha$ is the learning rate, $\\mathcal{L}$ is a loss function, and $\\mathbf{x}$ is a batch of training dataset."
   ]
  },
  {
   "cell_type": "code",
   "execution_count": 117,
   "metadata": {
    "pycharm": {
     "is_executing": false
    }
   },
   "outputs": [
    {
     "name": "stdout",
     "text": [
      "numerical: 0.210110 analytic: 0.210110, relative error: 1.508213e-07\n",
      "numerical: 1.094558 analytic: 1.094558, relative error: 6.605875e-08\n",
      "numerical: -0.555134 analytic: -0.555134, relative error: 6.105746e-08\n",
      "numerical: -0.257105 analytic: -0.257105, relative error: 2.697390e-07\n",
      "numerical: -1.268323 analytic: -1.268323, relative error: 5.594884e-09\n",
      "numerical: -2.038702 analytic: -2.038702, relative error: 3.040867e-09\n",
      "numerical: 1.455609 analytic: 1.455608, relative error: 4.600428e-08\n",
      "numerical: -0.921192 analytic: -0.921192, relative error: 2.083949e-08\n",
      "numerical: -0.892129 analytic: -0.892129, relative error: 2.088074e-08\n",
      "numerical: 1.516186 analytic: 1.516186, relative error: 1.274860e-08\n",
      "numerical: -3.087130 analytic: -3.087130, relative error: 1.971059e-08\n",
      "numerical: -3.723525 analytic: -3.723525, relative error: 2.211636e-08\n",
      "numerical: -0.533941 analytic: -0.533941, relative error: 1.699636e-08\n",
      "numerical: 2.227485 analytic: 2.227485, relative error: 2.436665e-08\n",
      "numerical: 2.003561 analytic: 2.003561, relative error: 1.292583e-08\n",
      "numerical: -0.094817 analytic: -0.094817, relative error: 6.172319e-07\n",
      "numerical: 1.283926 analytic: 1.283926, relative error: 5.724855e-08\n",
      "numerical: -1.451547 analytic: -1.451547, relative error: 3.957368e-08\n",
      "numerical: 2.220260 analytic: 2.220260, relative error: 9.467650e-09\n",
      "numerical: -2.956840 analytic: -2.956841, relative error: 9.323911e-09\n"
     ],
     "output_type": "stream"
    }
   ],
   "source": [
    "# Complete the implementation of softmax_loss_naive and implement a (naive)\n",
    "# version of the gradient that uses nested loops.\n",
    "loss, grad = softmax_loss_naive(W, X_dev, y_dev, 0.0)\n",
    "\n",
    "# Use numeric gradient checking as a debugging tool.\n",
    "# The numeric gradient should be close to the analytic gradient.\n",
    "from gradient_check import grad_check_sparse\n",
    "f = lambda w: softmax_loss_naive(w, X_dev, y_dev, 0.0)[0]\n",
    "grad_numerical = grad_check_sparse(f, W, grad, 10)\n",
    "\n",
    "# gradient check with regularization\n",
    "loss, grad = softmax_loss_naive(W, X_dev, y_dev, 1e2)\n",
    "f = lambda w: softmax_loss_naive(w, X_dev, y_dev, 1e2)[0]\n",
    "grad_numerical = grad_check_sparse(f, W, grad, 10)"
   ]
  },
  {
   "cell_type": "code",
   "execution_count": 118,
   "metadata": {
    "pycharm": {
     "is_executing": false
    }
   },
   "outputs": [
    {
     "name": "stdout",
     "text": [
      "naive loss: 2.286525e+00 computed in 0.327178s\n",
      "vectorized loss: 2.286525e+00 computed in 0.011966s\n",
      "Loss difference: 0.000000\n",
      "Gradient difference: 0.000000\n"
     ],
     "output_type": "stream"
    }
   ],
   "source": [
    "# Now that we have a naive implementation of the softmax loss function and its gradient,\n",
    "# implement a vectorized version in softmax_loss_vectorized.\n",
    "# The two versions should compute the same results, but the vectorized version should be\n",
    "# much faster.\n",
    "tic = time.time()\n",
    "loss_naive, grad_naive = softmax_loss_naive(W, X_dev, y_dev, 0.00001)\n",
    "toc = time.time()\n",
    "print('naive loss: %e computed in %fs' % (loss_naive, toc - tic))\n",
    "\n",
    "from classifiers.softmax import softmax_loss_vectorized\n",
    "tic = time.time()\n",
    "loss_vectorized, grad_vectorized = softmax_loss_vectorized(W, X_dev, y_dev, 0.00001)\n",
    "toc = time.time()\n",
    "print('vectorized loss: %e computed in %fs' % (loss_vectorized, toc - tic))\n",
    "\n",
    "# We use the Frobenius norm to compare the two versions\n",
    "# of the gradient.\n",
    "grad_difference = np.linalg.norm(grad_naive - grad_vectorized, ord='fro')\n",
    "print('Loss difference: %f' % np.abs(loss_naive - loss_vectorized))\n",
    "print('Gradient difference: %f' % grad_difference)"
   ]
  },
  {
   "cell_type": "code",
   "execution_count": 119,
   "metadata": {
    "collapsed": true,
    "jupyter": {
     "outputs_hidden": true
    },
    "pycharm": {
     "is_executing": false
    }
   },
   "outputs": [
    {
     "name": "stdout",
     "text": [
      "iteration 0 / 1500: loss 1541.996067\n",
      "iteration 100 / 1500: loss 207.613148\n",
      "iteration 200 / 1500: loss 29.637358\n",
      "iteration 300 / 1500: loss 5.798812\n",
      "iteration 400 / 1500: loss 2.634308\n",
      "iteration 500 / 1500: loss 2.202171\n",
      "iteration 600 / 1500: loss 2.160265\n",
      "iteration 700 / 1500: loss 2.158184\n",
      "iteration 800 / 1500: loss 2.191448\n",
      "iteration 900 / 1500: loss 2.112821\n",
      "iteration 1000 / 1500: loss 2.176445\n",
      "iteration 1100 / 1500: loss 2.161105\n",
      "iteration 1200 / 1500: loss 2.157660\n",
      "iteration 1300 / 1500: loss 2.100753\n",
      "iteration 1400 / 1500: loss 2.175503\n",
      "That took 14.108407s\n"
     ],
     "output_type": "stream"
    }
   ],
   "source": [
    "from classifiers.linear_classifier import *\n",
    "\n",
    "classifier = Softmax()\n",
    "tic = time.time()\n",
    "loss_hist = classifier.train(X_train, y_train, learning_rate=1e-7, reg=5e4,\n",
    "                                  num_iters=1500, verbose=True)\n",
    "toc = time.time()\n",
    "print('That took %fs' % (toc - tic))"
   ]
  },
  {
   "cell_type": "code",
   "execution_count": 120,
   "metadata": {
    "collapsed": true,
    "jupyter": {
     "outputs_hidden": true
    },
    "pycharm": {
     "is_executing": false
    }
   },
   "outputs": [
    {
     "name": "stdout",
     "text": [
      "training accuracy: 0.306673\n",
      "validation accuracy: 0.322000\n"
     ],
     "output_type": "stream"
    }
   ],
   "source": [
    "# Write the Softmax.predict function and evaluate the performance on both the\n",
    "# training and validation set\n",
    "y_train_pred = classifier.predict(X_train)\n",
    "print('training accuracy: %f' % (np.mean(y_train == y_train_pred), ))\n",
    "y_val_pred = classifier.predict(X_val)\n",
    "print('validation accuracy: %f' % (np.mean(y_val == y_val_pred), ))"
   ]
  },
  {
   "cell_type": "code",
   "execution_count": 121,
   "metadata": {
    "collapsed": true,
    "jupyter": {
     "outputs_hidden": true
    },
    "pycharm": {
     "is_executing": false
    }
   },
   "outputs": [
    {
     "data": {
      "text/plain": "<Figure size 720x576 with 1 Axes>",
      "image/png": "[encoded data removed]"
     },
     "metadata": {
      "needs_background": "light"
     },
     "output_type": "display_data"
    }
   ],
   "source": [
    "# A useful debugging strategy is to plot the loss as a function of\n",
    "# iteration number:\n",
    "plt.plot(loss_hist)\n",
    "plt.xlabel('Iteration number')\n",
    "plt.ylabel('Loss value')\n",
    "plt.show()"
   ]
  },
  {
   "cell_type": "code",
   "execution_count": 122,
   "metadata": {
    "collapsed": true,
    "jupyter": {
     "outputs_hidden": true
    },
    "pycharm": {
     "is_executing": false
    }
   },
   "outputs": [
    {
     "name": "stdout",
     "text": [
      "softmax on raw pixels final test set accuracy: 32.10\n"
     ],
     "output_type": "stream"
    }
   ],
   "source": [
    "# evaluate on test set\n",
    "# Evaluate the best softmax on test set\n",
    "y_test_pred = classifier.predict(X_test)\n",
    "test_accuracy = np.mean(y_test == y_test_pred)\n",
    "print('softmax on raw pixels final test set accuracy: %.2f' % (100*test_accuracy, ))"
   ]
  },
  {
   "cell_type": "code",
   "execution_count": 122,
   "outputs": [],
   "source": [
    "\n"
   ],
   "metadata": {
    "collapsed": false,
    "pycharm": {
     "name": "#%%\n",
     "is_executing": false
    }
   }
  }
 ],
 "metadata": {
  "anaconda-cloud": {},
  "kernelspec": {
   "display_name": "Python 3",
   "language": "python",
   "name": "python3"
  },
  "language_info": {
   "codemirror_mode": {
    "name": "ipython",
    "version": 3
   },
   "file_extension": ".py",
   "mimetype": "text/x-python",
   "name": "python",
   "nbconvert_exporter": "python",
   "pygments_lexer": "ipython3",
   "version": "3.7.6"
  },
  "pycharm": {
   "stem_cell": {
    "cell_type": "raw",
    "source": [],
    "metadata": {
     "collapsed": false
    }
   }
  }
 },
 "nbformat": 4,
 "nbformat_minor": 4
}